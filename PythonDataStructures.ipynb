{
 "cells": [
  {
   "cell_type": "code",
   "execution_count": 28,
   "id": "ea201fcd-108e-44b6-b292-a28afd47f67a",
   "metadata": {},
   "outputs": [
    {
     "name": "stdout",
     "output_type": "stream",
     "text": [
      "PWSki\n"
     ]
    }
   ],
   "source": [
    "#Q1 Discuss string slicing and provide examples.\n",
    "#Ans. String slicing is a technique in which we are extract the substring from a main string.\n",
    "#Example:\n",
    "name=\"PWSkills\"\n",
    "print(name[0:5])"
   ]
  },
  {
   "cell_type": "code",
   "execution_count": 2,
   "id": "9767b320-7cf2-47c4-9395-abc3cd3d1b43",
   "metadata": {},
   "outputs": [],
   "source": [
    "#Q2 Explain the key features of lists in Python\n",
    "#Ans. Key features of list is:-\n",
    "# 1. it is muttable.\n",
    "# 2. it is support duplicate itmes.\n",
    "# 3. it contains diffrent types of items\n",
    "# 4. it is arrange in ordered\n",
    "# 5. it is support indexing\n",
    "\n"
   ]
  },
  {
   "cell_type": "code",
   "execution_count": 30,
   "id": "a5487733-0dc3-4cc0-bdde-89bb773fc973",
   "metadata": {},
   "outputs": [
    {
     "name": "stdout",
     "output_type": "stream",
     "text": [
      "5 6 7\n"
     ]
    }
   ],
   "source": [
    "#Q3 Describe how to access, modify and delete elements in a list with example\n",
    "# Ans. 1. Access:- in python we can acess elements by their index.\n",
    "# Example:-\n",
    "num=[5, 6, 7, 8]\n",
    "f1= num[0]\n",
    "f2= num[1]\n",
    "f3= num[2]\n",
    "print(f1, f2, f3)"
   ]
  },
  {
   "cell_type": "code",
   "execution_count": 31,
   "id": "7d32e42a-5a62-4fc3-83e3-845d2694f17c",
   "metadata": {},
   "outputs": [
    {
     "name": "stdout",
     "output_type": "stream",
     "text": [
      "[8, 9, 7, 8]\n"
     ]
    }
   ],
   "source": [
    "# Modifying Elements:-\n",
    "# We can modify a list by assign new value in a specific index.\n",
    "# Example:-\n",
    "num=[5, 6, 7, 8]\n",
    "num[0]=8\n",
    "num[1]=9\n",
    "print(num)"
   ]
  },
  {
   "cell_type": "code",
   "execution_count": 32,
   "id": "44ff1d74-3aa3-46d0-b414-cc4469dfc915",
   "metadata": {},
   "outputs": [
    {
     "name": "stdout",
     "output_type": "stream",
     "text": [
      "[5, 7]\n"
     ]
    }
   ],
   "source": [
    "# Delete Elements:-\n",
    "# we can delete elements by using remove(), pop(), del functions.\n",
    "# Example:-\n",
    "num=[5, 6, 7, 8]\n",
    "num.remove(6)\n",
    "num.pop()\n",
    "print(num)"
   ]
  },
  {
   "cell_type": "code",
   "execution_count": 6,
   "id": "219c4bbf-b271-46aa-8eb7-7418504586bf",
   "metadata": {},
   "outputs": [
    {
     "name": "stdout",
     "output_type": "stream",
     "text": [
      "20\n",
      "[10, 25, 30, 40, 50]\n",
      "[10, 25, 30, 40, 50, 60]\n",
      "[10, 30, 40, 50, 60]\n"
     ]
    }
   ],
   "source": [
    "#compare and contrast tupple and list with example.\n",
    "# Ans. Feature\tList\tTuple\n",
    "# Mutability\tMutable\tImmutable\n",
    "# Syntax\t[]\t()\n",
    "# Performance\tSlower\tFaster\n",
    "# Use Cases\tCollections that may change\tCollections that should remain constant\n",
    "# Methods\tMany built-in methods\tFewer built-in methods\n",
    "# Example of lis:-\n",
    "# Creating a list\n",
    "my_list = [10, 20, 30, 40, 50]\n",
    "\n",
    "# Accessing elements\n",
    "print(my_list[1])  # Output: 20\n",
    "\n",
    "# Modifying elements\n",
    "my_list[1] = 25\n",
    "print(my_list)  # Output: [10, 25, 30, 40, 50]\n",
    "\n",
    "# Adding elements\n",
    "my_list.append(60)\n",
    "print(my_list)  # Output: [10, 25, 30, 40, 50, 60]\n",
    "\n",
    "# Removing elements\n",
    "my_list.remove(25)\n",
    "print(my_list)  # Output: [10, 30, 40, 50, 60]"
   ]
  },
  {
   "cell_type": "code",
   "execution_count": 7,
   "id": "ca1c9b34-29b3-42fc-b3a1-1d9a69b18a29",
   "metadata": {},
   "outputs": [
    {
     "name": "stdout",
     "output_type": "stream",
     "text": [
      "20\n",
      "'tuple' object does not support item assignment\n",
      "(10, 20, 30, 40, 50, 60)\n",
      "10 20 30 40 50\n"
     ]
    }
   ],
   "source": [
    "# Example of tupple:-\n",
    "# Creating a tuple\n",
    "my_tuple = (10, 20, 30, 40, 50)\n",
    "\n",
    "# Accessing elements\n",
    "print(my_tuple[1])  # Output: 20\n",
    "\n",
    "# Attempting to modify elements (this will raise an error)\n",
    "try:\n",
    "    my_tuple[1] = 25\n",
    "except TypeError as e:\n",
    "    print(e)  # Output: 'tuple' object does not support item assignment\n",
    "\n",
    "# Tuples do not have methods like append() or remove()\n",
    "# We can, however, concatenate tuples to create a new one\n",
    "new_tuple = my_tuple + (60,)\n",
    "print(new_tuple)  # Output: (10, 20, 30, 40, 50, 60)\n",
    "\n",
    "# We can also use tuple unpacking\n",
    "a, b, c, d, e = my_tuple[:5]\n",
    "print(a, b, c, d, e)  # Output: 10 20 30 40 50"
   ]
  },
  {
   "cell_type": "code",
   "execution_count": 8,
   "id": "272562d5-0e3e-4662-98ab-f516ed4a903f",
   "metadata": {},
   "outputs": [
    {
     "data": {
      "text/plain": [
       "{1, 2, 3, 4}"
      ]
     },
     "execution_count": 8,
     "metadata": {},
     "output_type": "execute_result"
    }
   ],
   "source": [
    "#Q5 Describe key features of sets and provide example with their uses\n",
    "# Ans. 1. Unordered:- Set do not follow any particular ordered of elements \n",
    "\n",
    "# Example: {3, 1, 2} is considered the same as {1, 2, 3}.\n",
    "# 2. unique elements:- sets do not follow duplicate elements\n",
    "\n",
    "# Example: {1, 2, 2, 3} will be stored as {1, 2, 3}.\n",
    "# 3. Mutable: Elements can be added or removed from a set.\n",
    "\n",
    "# Example: set.add(4) will add 4 to the set, and set.remove(2) will remove 2.\n",
    "# Union: Combines all elements from two sets.\n",
    "\n",
    "# Example: {1, 2, 3} | {3, 4, 5} results in {1, 2, 3, 4, 5}.\n",
    "# Intersection: Returns only the elements that are in both sets.\n",
    "\n",
    "# Example: {1, 2, 3} & {3, 4, 5} results in {3}.\n",
    "# Difference: Returns elements in one set but not in the other.\n",
    "\n",
    "# Example: {1, 2, 3} - {3, 4, 5} results in {1, 2}.\n",
    "# Symmetric Difference: Returns elements in either of the sets, but not in both.\n",
    "\n",
    "# Example: {1, 2, 3} ^ {3, 4, 5} results in {1, 2, 4, 5}.\n",
    "\n",
    "# Remove duplicate elements:-\n",
    "s=[1,2,3,3,4]\n",
    "set(s)"
   ]
  },
  {
   "cell_type": "code",
   "execution_count": 34,
   "id": "efab4482-c155-4154-8e5c-07626aa5923b",
   "metadata": {},
   "outputs": [
    {
     "data": {
      "text/plain": [
       "True"
      ]
     },
     "execution_count": 34,
     "metadata": {},
     "output_type": "execute_result"
    }
   ],
   "source": [
    "#Membership Testing\n",
    "s={1,2,3,5}\n",
    "2 in s"
   ]
  },
  {
   "cell_type": "code",
   "execution_count": 10,
   "id": "c2e519eb-ebbe-4e4b-ac2d-501623ee42c0",
   "metadata": {},
   "outputs": [
    {
     "name": "stdout",
     "output_type": "stream",
     "text": [
      "{'John', 'Harry', 'Jane', 'Tom', 'Emma'}\n",
      "{'Tom'}\n",
      "{'John', 'Jane'}\n",
      "{'Harry', 'John', 'Jane', 'Emma'}\n"
     ]
    }
   ],
   "source": [
    "#set operation\n",
    "students_in_class_A = {'John', 'Jane', 'Tom'}\n",
    "students_in_class_B = {'Tom', 'Harry', 'Emma'}\n",
    "\n",
    "all_students = students_in_class_A | students_in_class_B  # Union\n",
    "print(all_students)  # Output: {'John', 'Jane', 'Tom', 'Harry', 'Emma'}\n",
    "\n",
    "common_students = students_in_class_A & students_in_class_B  # Intersection\n",
    "print(common_students)  # Output: {'Tom'}\n",
    "\n",
    "students_only_in_A = students_in_class_A - students_in_class_B  # Difference\n",
    "print(students_only_in_A)  # Output: {'John', 'Jane'}\n",
    "\n",
    "unique_students = students_in_class_A ^ students_in_class_B  # Symmetric Difference\n",
    "print(unique_students)  # Output: {'John', 'Jane', 'Harry', 'Emma'}"
   ]
  },
  {
   "cell_type": "code",
   "execution_count": 11,
   "id": "05f5bdd3-76ed-4594-8af1-89be28254739",
   "metadata": {},
   "outputs": [
    {
     "data": {
      "text/plain": [
       "{4, 5, 6, 7, 9}"
      ]
     },
     "execution_count": 11,
     "metadata": {},
     "output_type": "execute_result"
    }
   ],
   "source": [
    "#Unique collection\n",
    "num={5,6,4,7}\n",
    "num.add(9)\n",
    "num"
   ]
  },
  {
   "cell_type": "code",
   "execution_count": 12,
   "id": "3c89dabf-dab6-4252-b12d-2f7d0bc0895d",
   "metadata": {},
   "outputs": [
    {
     "data": {
      "text/plain": [
       "{33, 44, 55, 77, 88, 99}"
      ]
     },
     "execution_count": 12,
     "metadata": {},
     "output_type": "execute_result"
    }
   ],
   "source": [
    "#Data Validation\n",
    "num={77,88,99,33,44}\n",
    "num1= 55\n",
    "if num1 in num:\n",
    "    print(\"Number already exists\")\n",
    "else:\n",
    "    num.add(num1)\n",
    "num"
   ]
  },
  {
   "cell_type": "code",
   "execution_count": 13,
   "id": "1eefb1f3-db8b-4b3e-99af-d79f1cdc56bc",
   "metadata": {},
   "outputs": [],
   "source": [
    "#Discuss the use cases of tuples and sets in Python programming.\n",
    "# Ans. Tuple classification:-\n",
    "# 1. it is ordered collection of elements that can be various data type\n",
    "# 2. it is immutable \n",
    "# 3. it is support indexing\n",
    "# 4. it is allow duplicate elements"
   ]
  },
  {
   "cell_type": "code",
   "execution_count": 14,
   "id": "25c9f046-d351-408f-8633-42043a1e2fc6",
   "metadata": {},
   "outputs": [
    {
     "ename": "TypeError",
     "evalue": "'tuple' object does not support item assignment",
     "output_type": "error",
     "traceback": [
      "\u001b[0;31m---------------------------------------------------------------------------\u001b[0m",
      "\u001b[0;31mTypeError\u001b[0m                                 Traceback (most recent call last)",
      "Cell \u001b[0;32mIn[14], line 3\u001b[0m\n\u001b[1;32m      1\u001b[0m \u001b[38;5;66;03m# Example of immutability\u001b[39;00m\n\u001b[1;32m      2\u001b[0m num\u001b[38;5;241m=\u001b[39m(\u001b[38;5;241m1\u001b[39m,\u001b[38;5;241m2\u001b[39m,\u001b[38;5;241m3\u001b[39m,\u001b[38;5;241m4\u001b[39m,\u001b[38;5;241m5\u001b[39m,\u001b[38;5;241m6\u001b[39m)\n\u001b[0;32m----> 3\u001b[0m \u001b[43mnum\u001b[49m\u001b[43m[\u001b[49m\u001b[38;5;241;43m2\u001b[39;49m\u001b[43m]\u001b[49m\u001b[38;5;241m=\u001b[39m\u001b[38;5;241m9\u001b[39m\n\u001b[1;32m      4\u001b[0m num\n",
      "\u001b[0;31mTypeError\u001b[0m: 'tuple' object does not support item assignment"
     ]
    }
   ],
   "source": [
    "# Example of immutability\n",
    "num=(1,2,3,4,5,6)\n",
    "num[2]=9\n",
    "num"
   ]
  },
  {
   "cell_type": "code",
   "execution_count": 15,
   "id": "73a09599-b3d0-48d9-bd60-ed33f1faa833",
   "metadata": {},
   "outputs": [
    {
     "data": {
      "text/plain": [
       "4"
      ]
     },
     "execution_count": 15,
     "metadata": {},
     "output_type": "execute_result"
    }
   ],
   "source": [
    "#Indexing of tuple\n",
    "num=(1,2,3,4,5,6)\n",
    "num[3]"
   ]
  },
  {
   "cell_type": "code",
   "execution_count": 16,
   "id": "314f2d3d-c0c2-4f4b-8f9e-9532f57bb59e",
   "metadata": {},
   "outputs": [],
   "source": [
    "# sets classification:-\n",
    "# 1. it is unordered collection of elements\n",
    "# 2. it is support indexing\n",
    "# 3. it is Mutable \n",
    "# 4. it is not allow duplicate elements\n",
    "# 5. we are perform union, intersection, difference operation in sets"
   ]
  },
  {
   "cell_type": "code",
   "execution_count": 17,
   "id": "a578ceae-872a-4303-a78d-4c9543c21232",
   "metadata": {},
   "outputs": [
    {
     "data": {
      "text/plain": [
       "{1, 2, 3}"
      ]
     },
     "execution_count": 17,
     "metadata": {},
     "output_type": "execute_result"
    }
   ],
   "source": [
    "s=set()\n",
    "s.add(1)\n",
    "s.add(2)\n",
    "s.add(3)\n",
    "s"
   ]
  },
  {
   "cell_type": "code",
   "execution_count": 18,
   "id": "0a17a2fd-16d0-460c-9bfa-55da9e7cd330",
   "metadata": {},
   "outputs": [
    {
     "data": {
      "text/plain": [
       "{8}"
      ]
     },
     "execution_count": 18,
     "metadata": {},
     "output_type": "execute_result"
    }
   ],
   "source": [
    "s1={1,2,3,6,8}\n",
    "s2={10,20,30,8}\n",
    "s1.intersection(s2)\n"
   ]
  },
  {
   "cell_type": "code",
   "execution_count": 19,
   "id": "be5517f6-6922-45d5-ade6-8ceaff861b9d",
   "metadata": {},
   "outputs": [
    {
     "data": {
      "text/plain": [
       "{1, 2, 3, 6, 8, 10, 20, 30}"
      ]
     },
     "execution_count": 19,
     "metadata": {},
     "output_type": "execute_result"
    }
   ],
   "source": [
    "s1={1,2,3,6,8}\n",
    "s2={10,20,30,8}\n",
    "s1.union(s2)"
   ]
  },
  {
   "cell_type": "code",
   "execution_count": 20,
   "id": "bb1789cc-192b-4cc9-a3c1-8b21bf12e414",
   "metadata": {},
   "outputs": [
    {
     "data": {
      "text/plain": [
       "{10, 20, 30}"
      ]
     },
     "execution_count": 20,
     "metadata": {},
     "output_type": "execute_result"
    }
   ],
   "source": [
    "s1={1,2,3,6,8}\n",
    "s2={10,20,30,8}\n",
    "s2.difference(s1)\n"
   ]
  },
  {
   "cell_type": "code",
   "execution_count": 21,
   "id": "3ea3c523-b855-4afd-bc24-ec42b7dcbd9a",
   "metadata": {},
   "outputs": [],
   "source": [
    "# Describe how to add, modify, and delete items in a dictionary with examples\n",
    "# Ans. Dictionary Classification:-\n",
    "# 1.Dictionaries are key-value pairs that allow you to store and retrieve data based on a unique key.\n",
    "# 2.in dictionary keys are immutable.\n",
    "# 3.Dictionaries are useful for storing data that needs to be accessed quickly and efficiently.\n",
    "# 4.we can use add, modify, delete operation in dictionary."
   ]
  },
  {
   "cell_type": "code",
   "execution_count": 22,
   "id": "375f6200-79aa-4825-8da6-8677145a2be0",
   "metadata": {},
   "outputs": [
    {
     "name": "stdout",
     "output_type": "stream",
     "text": [
      "{'name': 'Alice', 'age': 21, 'grade': 'A'}\n"
     ]
    }
   ],
   "source": [
    "# Adding Items to a Dictionary\n",
    "# To add a new key-value pair to a dictionary, you simply assign a value to a new key.\n",
    "# Creating a dictionary\n",
    "student = {\"name\": \"Alice\", \"age\": 21}\n",
    "\n",
    "# Adding a new key-value pair\n",
    "student[\"grade\"] = \"A\"\n",
    "\n",
    "print(student)"
   ]
  },
  {
   "cell_type": "code",
   "execution_count": 23,
   "id": "40bbabc2-fd5a-4080-b89b-2bd28db039b6",
   "metadata": {},
   "outputs": [
    {
     "name": "stdout",
     "output_type": "stream",
     "text": [
      "{'name': 'Alice', 'age': 22, 'grade': 'A'}\n"
     ]
    }
   ],
   "source": [
    "# Modifying Items in a Dictionary\n",
    "# To modify an existing item, you assign a new value to an existing key.\n",
    "# Modifying an existing key-value pair\n",
    "student[\"age\"] = 22\n",
    "\n",
    "print(student)"
   ]
  },
  {
   "cell_type": "code",
   "execution_count": 24,
   "id": "3d26b5e7-07b4-4090-b87e-cf3124384eb2",
   "metadata": {},
   "outputs": [
    {
     "name": "stdout",
     "output_type": "stream",
     "text": [
      "{'name': 'Alice', 'age': 22}\n"
     ]
    }
   ],
   "source": [
    "# Deleting Items from a Dictionary\n",
    "# You can delete items using the del keyword, the pop() method, or the popitem() method.\n",
    "# Deleting a key-value pair\n",
    "del student[\"grade\"]\n",
    "\n",
    "print(student)"
   ]
  },
  {
   "cell_type": "code",
   "execution_count": 25,
   "id": "156bafb8-7159-43c6-9029-278e5892882b",
   "metadata": {},
   "outputs": [
    {
     "name": "stdout",
     "output_type": "stream",
     "text": [
      "('grade', 'A')\n",
      "{'name': 'Alice', 'age': 22}\n"
     ]
    }
   ],
   "source": [
    "# Example using popitem():\n",
    "# Adding items again for demonstration\n",
    "student[\"age\"] = 22\n",
    "student[\"grade\"] = \"A\"\n",
    "\n",
    "# Using popitem() to remove and return the last key-value pair\n",
    "item = student.popitem()\n",
    "\n",
    "print(item)\n",
    "print(student)"
   ]
  },
  {
   "cell_type": "code",
   "execution_count": 26,
   "id": "ef5a80d7-e874-42f7-9d2b-914c79695c36",
   "metadata": {},
   "outputs": [
    {
     "name": "stdout",
     "output_type": "stream",
     "text": [
      "22\n",
      "{'name': 'Alice'}\n"
     ]
    }
   ],
   "source": [
    "# Example using pop():\n",
    "# Using pop() to remove a key-value pair and get the value\n",
    "age = student.pop(\"age\")\n",
    "\n",
    "print(age)\n",
    "print(student)"
   ]
  },
  {
   "cell_type": "code",
   "execution_count": null,
   "id": "2c6117c6-2fb4-4daf-aaf7-d64b48cd4638",
   "metadata": {},
   "outputs": [],
   "source": []
  }
 ],
 "metadata": {
  "kernelspec": {
   "display_name": "Python 3 (ipykernel)",
   "language": "python",
   "name": "python3"
  },
  "language_info": {
   "codemirror_mode": {
    "name": "ipython",
    "version": 3
   },
   "file_extension": ".py",
   "mimetype": "text/x-python",
   "name": "python",
   "nbconvert_exporter": "python",
   "pygments_lexer": "ipython3",
   "version": "3.10.8"
  }
 },
 "nbformat": 4,
 "nbformat_minor": 5
}
